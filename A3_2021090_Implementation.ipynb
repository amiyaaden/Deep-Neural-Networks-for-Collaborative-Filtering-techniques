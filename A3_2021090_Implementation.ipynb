{
  "cells": [
    {
      "cell_type": "markdown",
      "metadata": {
        "id": "view-in-github",
        "colab_type": "text"
      },
      "source": [
        "<a href=\"https://colab.research.google.com/github/amiyaaden/Deep-Neural-Networks-for-Collaborative-Filtering-techniques/blob/main/A3_2021090_Implementation.ipynb\" target=\"_parent\"><img src=\"https://colab.research.google.com/assets/colab-badge.svg\" alt=\"Open In Colab\"/></a>"
      ]
    },
    {
      "cell_type": "markdown",
      "source": [
        "#Unzipping Data file"
      ],
      "metadata": {
        "id": "EDQpM6pFRrQs"
      }
    },
    {
      "cell_type": "code",
      "source": [
        "# prompt: unzip file\n",
        "\n",
        "!unzip ratings.dat.zip\n"
      ],
      "metadata": {
        "colab": {
          "base_uri": "https://localhost:8080/"
        },
        "id": "xq6pkehmCPO4",
        "outputId": "89126ae9-b3ca-4607-d4ce-e75a1fee8263"
      },
      "execution_count": 1,
      "outputs": [
        {
          "output_type": "stream",
          "name": "stdout",
          "text": [
            "Archive:  ratings.dat.zip\n",
            "  inflating: ratings.dat             \n"
          ]
        }
      ]
    },
    {
      "cell_type": "markdown",
      "source": [
        "#Importing Libraries"
      ],
      "metadata": {
        "id": "Eh9ydtN6YGKl"
      }
    },
    {
      "cell_type": "code",
      "source": [
        "import pandas as pd\n",
        "import numpy as np\n",
        "from sklearn.model_selection import train_test_split\n",
        "import torch\n",
        "from torch.utils.data import Dataset, DataLoader\n",
        "import torch.nn as nn\n",
        "import torch.nn.functional as F\n",
        "from sklearn.metrics import mean_squared_error, mean_absolute_error\n",
        "from collections import defaultdict\n",
        "import matplotlib.pyplot as plt\n",
        "from torch_geometric.data import Data\n",
        "from torch_geometric.nn import GCNConv"
      ],
      "metadata": {
        "id": "Z48DhGFxYAdV"
      },
      "execution_count": 13,
      "outputs": []
    },
    {
      "cell_type": "markdown",
      "source": [
        "#Loading The Data"
      ],
      "metadata": {
        "id": "_8fU7kKyYcql"
      }
    },
    {
      "cell_type": "code",
      "source": [
        "# Load the data\n",
        "def load_data(file_path):\n",
        "    # Read the data\n",
        "    df = pd.read_csv(file_path, sep='::', header=None, engine='python',\n",
        "                     names=['user_id', 'item_id', 'rating', 'timestamp'])\n",
        "\n",
        "    # Map user and item IDs to continuous indices\n",
        "    user_ids = df['user_id'].unique()\n",
        "    item_ids = df['item_id'].unique()\n",
        "\n",
        "    user_id_map = {old: new for new, old in enumerate(user_ids)}\n",
        "    item_id_map = {old: new for new, old in enumerate(item_ids)}\n",
        "\n",
        "    df['user_idx'] = df['user_id'].map(user_id_map)\n",
        "    df['item_idx'] = df['item_id'].map(item_id_map)\n",
        "\n",
        "    return df, len(user_ids), len(item_ids)\n",
        "\n",
        "# Load the data\n",
        "data_path = 'ratings.dat'  # You'll need to provide this file\n",
        "df, num_users, num_items = load_data(data_path)\n",
        "\n",
        "# Split into train and test\n",
        "train_df, test_df = train_test_split(df, test_size=0.2, random_state=42)\n",
        "\n",
        "print(f\"Number of users: {num_users}\")\n",
        "print(f\"Number of items: {num_items}\")\n",
        "print(f\"Train samples: {len(train_df)}\")\n",
        "print(f\"Test samples: {len(test_df)}\")"
      ],
      "metadata": {
        "colab": {
          "base_uri": "https://localhost:8080/"
        },
        "id": "RNlay_hmCY1b",
        "outputId": "05ca988d-5cc2-4763-df97-3422cb8836f4"
      },
      "execution_count": 14,
      "outputs": [
        {
          "output_type": "stream",
          "name": "stdout",
          "text": [
            "Number of users: 6040\n",
            "Number of items: 3706\n",
            "Train samples: 800167\n",
            "Test samples: 200042\n"
          ]
        }
      ]
    },
    {
      "cell_type": "markdown",
      "source": [
        "#Data Loaders"
      ],
      "metadata": {
        "id": "l2yK3DmnYwl6"
      }
    },
    {
      "cell_type": "code",
      "source": [
        "# Dataset class\n",
        "class RatingDataset(Dataset):\n",
        "    def __init__(self, df):\n",
        "        self.users = torch.LongTensor(df['user_idx'].values)\n",
        "        self.items = torch.LongTensor(df['item_idx'].values)\n",
        "        self.ratings = torch.FloatTensor(df['rating'].values)\n",
        "\n",
        "    def __len__(self):\n",
        "        return len(self.ratings)\n",
        "\n",
        "    def __getitem__(self, idx):\n",
        "        return self.users[idx], self.items[idx], self.ratings[idx]\n",
        "\n",
        "# Create datasets and dataloaders\n",
        "train_dataset = RatingDataset(train_df)\n",
        "test_dataset = RatingDataset(test_df)\n",
        "\n",
        "train_loader = DataLoader(train_dataset, batch_size=1024, shuffle=True)\n",
        "test_loader = DataLoader(test_dataset, batch_size=1024, shuffle=False)\n",
        "\n",
        "criterion = nn.MSELoss()"
      ],
      "metadata": {
        "id": "g4MA1DbRVJh3"
      },
      "execution_count": 15,
      "outputs": []
    },
    {
      "cell_type": "markdown",
      "source": [
        "#Training And Evaluation Of NCF"
      ],
      "metadata": {
        "id": "wHjEJrnsY-90"
      }
    },
    {
      "cell_type": "code",
      "source": [
        "class NCF(nn.Module):\n",
        "    def __init__(self, num_users, num_items, embedding_size=64, hidden_layers=[64, 32, 16]):\n",
        "        super(NCF, self).__init__()\n",
        "\n",
        "        # Embedding layers\n",
        "        self.user_embedding = nn.Embedding(num_users, embedding_size)\n",
        "        self.item_embedding = nn.Embedding(num_items, embedding_size)\n",
        "\n",
        "        # MLP layers\n",
        "        self.fc_layers = nn.ModuleList()\n",
        "        for in_size, out_size in zip([2*embedding_size] + hidden_layers[:-1], hidden_layers):\n",
        "            self.fc_layers.append(nn.Linear(in_size, out_size))\n",
        "\n",
        "        # Output layer\n",
        "        self.output = nn.Linear(hidden_layers[-1], 1)\n",
        "\n",
        "    def forward(self, user, item):\n",
        "        # Get embeddings\n",
        "        user_embedded = self.user_embedding(user)\n",
        "        item_embedded = self.item_embedding(item)\n",
        "\n",
        "        # Concatenate embeddings\n",
        "        x = torch.cat([user_embedded, item_embedded], dim=-1)\n",
        "\n",
        "        # Pass through MLP\n",
        "        for layer in self.fc_layers:\n",
        "            x = F.relu(layer(x))\n",
        "\n",
        "        # Output\n",
        "        out = torch.sigmoid(self.output(x)) * 4 + 1  # Scale to 1-5 rating range\n",
        "\n",
        "        return out.squeeze()\n",
        "\n",
        "\n",
        "\n",
        "# Initialize model, loss, and optimizer\n",
        "device = torch.device('cuda' if torch.cuda.is_available() else 'cpu')\n",
        "model = NCF(num_users, num_items).to(device)\n",
        "criterion = nn.MSELoss()\n",
        "optimizer = torch.optim.Adam(model.parameters(), lr=0.001)\n",
        "\n",
        "# Training function\n",
        "def train(model, train_loader, optimizer, criterion, device, epochs=10):\n",
        "    model.train()\n",
        "    for epoch in range(epochs):\n",
        "        total_loss = 0\n",
        "        for batch_idx, (users, items, ratings) in enumerate(train_loader):\n",
        "            users, items, ratings = users.to(device), items.to(device), ratings.to(device)\n",
        "\n",
        "            optimizer.zero_grad()\n",
        "            predictions = model(users, items)\n",
        "            loss = criterion(predictions, ratings)\n",
        "            loss.backward()\n",
        "            optimizer.step()\n",
        "\n",
        "            total_loss += loss.item()\n",
        "\n",
        "        print(f'Epoch {epoch+1}, Loss: {total_loss/len(train_loader):.4f}')\n",
        "\n",
        "# Train and evaluate NCF\n",
        "print(\"Training NCF model...\")\n",
        "train(model, train_loader, optimizer, criterion, device, epochs=10)"
      ],
      "metadata": {
        "id": "-ljbTW-3CqOl",
        "colab": {
          "base_uri": "https://localhost:8080/"
        },
        "outputId": "af7156a2-1063-45a8-ea83-63ae3a4c00b3"
      },
      "execution_count": 16,
      "outputs": [
        {
          "output_type": "stream",
          "name": "stdout",
          "text": [
            "Training NCF model...\n",
            "Epoch 1, Loss: 1.0363\n",
            "Epoch 2, Loss: 0.8580\n",
            "Epoch 3, Loss: 0.8221\n",
            "Epoch 4, Loss: 0.8058\n",
            "Epoch 5, Loss: 0.7956\n",
            "Epoch 6, Loss: 0.7874\n",
            "Epoch 7, Loss: 0.7799\n",
            "Epoch 8, Loss: 0.7729\n",
            "Epoch 9, Loss: 0.7666\n",
            "Epoch 10, Loss: 0.7594\n",
            "Evaluating NCF model...\n",
            "MSE: 0.8297, MAE: 0.7198\n"
          ]
        }
      ]
    },
    {
      "cell_type": "code",
      "source": [
        "# Evaluation function\n",
        "def evaluate(model, test_loader, device):\n",
        "    model.eval()\n",
        "    predictions = []\n",
        "    actuals = []\n",
        "    with torch.no_grad():\n",
        "        for users, items, ratings in test_loader:\n",
        "            users, items, ratings = users.to(device), items.to(device), ratings.to(device)\n",
        "            preds = model(users, items)\n",
        "\n",
        "            predictions.extend(preds.cpu().numpy())\n",
        "            actuals.extend(ratings.cpu().numpy())\n",
        "\n",
        "    mse = mean_squared_error(actuals, predictions)\n",
        "    mae = mean_absolute_error(actuals, predictions)\n",
        "\n",
        "    print(f'MSE: {mse:.4f}, MAE: {mae:.4f}')\n",
        "    return mse, mae\n",
        "\n",
        "\n",
        "print(\"Evaluating NCF model...\")\n",
        "ncf_mse, ncf_mae = evaluate(model, test_loader, device)"
      ],
      "metadata": {
        "colab": {
          "base_uri": "https://localhost:8080/"
        },
        "id": "n4d3cEblehZ-",
        "outputId": "ac637d94-3063-46bb-a437-785ab41dc96e"
      },
      "execution_count": 20,
      "outputs": [
        {
          "output_type": "stream",
          "name": "stdout",
          "text": [
            "Evaluating NCF model...\n",
            "MSE: 0.8326, MAE: 0.7217\n"
          ]
        }
      ]
    },
    {
      "cell_type": "markdown",
      "source": [
        "#Training And Evaluation Of GNN"
      ],
      "metadata": {
        "id": "J8dFqmoyb3RX"
      }
    },
    {
      "cell_type": "code",
      "source": [
        "# Prepare graph data\n",
        "def create_graph_data(df, num_users, num_items):\n",
        "    # Create user-item bipartite graph\n",
        "    user_nodes = df['user_idx'].values\n",
        "    item_nodes = df['item_idx'].values + num_users  # Offset items to avoid ID collision\n",
        "\n",
        "    # Create edges (user->item and item->user)\n",
        "    edge_index = torch.tensor([\n",
        "        np.concatenate([user_nodes, item_nodes]),  # Source nodes\n",
        "        np.concatenate([item_nodes, user_nodes])    # Target nodes\n",
        "    ], dtype=torch.long)\n",
        "\n",
        "    # Edge weights (ratings normalized to 0-1)\n",
        "    edge_weights = torch.tensor(np.concatenate([\n",
        "        df['rating'].values / 5.0,\n",
        "        df['rating'].values / 5.0\n",
        "    ]), dtype=torch.float)\n",
        "\n",
        "    return Data(x=None, edge_index=edge_index, edge_attr=edge_weights)\n",
        "\n",
        "graph_data = create_graph_data(train_df, num_users, num_items)\n",
        "\n",
        "# GNN Model\n",
        "class GNNCF(nn.Module):\n",
        "    def __init__(self, num_users, num_items, embedding_size=64, num_layers=3):\n",
        "        super(GNNCF, self).__init__()\n",
        "        self.num_users = num_users\n",
        "        self.num_items = num_items\n",
        "        self.embedding_size = embedding_size\n",
        "        self.num_layers = num_layers\n",
        "\n",
        "        # Initial embeddings\n",
        "        self.user_embedding = nn.Embedding(num_users, embedding_size)\n",
        "        self.item_embedding = nn.Embedding(num_items, embedding_size)\n",
        "\n",
        "        # GNN layers\n",
        "        self.convs = nn.ModuleList()\n",
        "        for _ in range(num_layers):\n",
        "            self.convs.append(GCNConv(embedding_size, embedding_size, add_self_loops=False))\n",
        "\n",
        "        # Initialize weights\n",
        "        nn.init.normal_(self.user_embedding.weight, std=0.1)\n",
        "        nn.init.normal_(self.item_embedding.weight, std=0.1)\n",
        "\n",
        "    def forward(self, user, item, edge_index, edge_weight):\n",
        "        # Create all embeddings\n",
        "        user_embeds = self.user_embedding(torch.arange(0, self.num_users, device=user.device))\n",
        "        item_embeds = self.item_embedding(torch.arange(0, self.num_items, device=item.device))\n",
        "        x = torch.cat([user_embeds, item_embeds], dim=0)\n",
        "\n",
        "        # Message passing\n",
        "        embeddings = [x]\n",
        "        for conv in self.convs:\n",
        "            x = F.leaky_relu(conv(x, edge_index, edge_weight=edge_weight))\n",
        "            embeddings.append(x)\n",
        "\n",
        "        # Combine all layer embeddings\n",
        "        final_embedding = torch.mean(torch.stack(embeddings, dim=0), dim=0)\n",
        "\n",
        "        # Split back into users and items\n",
        "        user_final, item_final = final_embedding[:self.num_users], final_embedding[self.num_users:]\n",
        "\n",
        "        # Get embeddings for input users and items\n",
        "        user_embedded = user_final[user]\n",
        "        item_embedded = item_final[item]\n",
        "\n",
        "        # Dot product\n",
        "        out = (user_embedded * item_embedded).sum(dim=1)\n",
        "\n",
        "        # Scale to rating range\n",
        "        out = torch.sigmoid(out) * 4 + 1\n",
        "\n",
        "        return out\n",
        "\n",
        "    def get_embeddings(self, edge_index, edge_weight):\n",
        "        # Create all embeddings\n",
        "        user_embeds = self.user_embedding(torch.arange(0, self.num_users).to(edge_index.device))\n",
        "        item_embeds = self.item_embedding(torch.arange(0, self.num_items).to(edge_index.device))\n",
        "        x = torch.cat([user_embeds, item_embeds], dim=0)\n",
        "\n",
        "        # Message passing\n",
        "        embeddings = [x]\n",
        "        for conv in self.convs:\n",
        "            x = F.leaky_relu(conv(x, edge_index, edge_weight=edge_weight))\n",
        "            embeddings.append(x)\n",
        "\n",
        "        # Combine all layer embeddings\n",
        "        final_embedding = torch.mean(torch.stack(embeddings, dim=0), dim=0)\n",
        "\n",
        "        # Split back into users and items\n",
        "        user_final, item_final = final_embedding[:self.num_users], final_embedding[self.num_users:]\n",
        "\n",
        "        return user_final, item_final\n",
        "\n",
        "# Initialize GNN model\n",
        "gnn_model = GNNCF(num_users, num_items).to(device)\n",
        "gnn_optimizer = torch.optim.Adam(gnn_model.parameters(), lr=0.001)\n",
        "\n",
        "# Prepare graph data for PyTorch Geometric\n",
        "graph_data = graph_data.to(device)\n",
        "\n",
        "# Training function for GNN\n",
        "def train_gnn(model, train_loader, optimizer, criterion, graph_data, device, epochs=10):\n",
        "    model.train()\n",
        "    for epoch in range(epochs):\n",
        "        total_loss = 0\n",
        "        for batch_idx, (users, items, ratings) in enumerate(train_loader):\n",
        "            users, items, ratings = users.to(device), items.to(device), ratings.to(device)\n",
        "\n",
        "            optimizer.zero_grad()\n",
        "            predictions = model(users, items, graph_data.edge_index, graph_data.edge_attr)\n",
        "            loss = criterion(predictions, ratings)\n",
        "            loss.backward()\n",
        "            optimizer.step()\n",
        "\n",
        "            total_loss += loss.item()\n",
        "\n",
        "        print(f'Epoch {epoch+1}, Loss: {total_loss/len(train_loader):.4f}')\n",
        "\n",
        "# Train and evaluate GNN\n",
        "print(\"Training GNN model...\")\n",
        "train_gnn(gnn_model, train_loader, gnn_optimizer, criterion, graph_data, device, epochs=10)\n"
      ],
      "metadata": {
        "colab": {
          "base_uri": "https://localhost:8080/"
        },
        "id": "YVoH3bqBDCeJ",
        "outputId": "7d4c1751-c0e8-4c1b-e64b-c31279e256e7"
      },
      "execution_count": 22,
      "outputs": [
        {
          "output_type": "stream",
          "name": "stdout",
          "text": [
            "Training GNN model...\n",
            "Epoch 1, Loss: 0.9518\n",
            "Epoch 2, Loss: 0.8333\n",
            "Epoch 3, Loss: 0.8022\n",
            "Epoch 4, Loss: 0.7786\n",
            "Epoch 5, Loss: 0.7626\n",
            "Epoch 6, Loss: 0.7498\n",
            "Epoch 7, Loss: 0.7390\n",
            "Epoch 8, Loss: 0.7283\n",
            "Epoch 9, Loss: 0.7173\n",
            "Epoch 10, Loss: 0.7075\n"
          ]
        }
      ]
    },
    {
      "cell_type": "code",
      "source": [
        "def evaluate(model, test_loader, device, graph_data=None):\n",
        "    \"\"\"Evaluates the model and returns MSE and MAE.\n",
        "\n",
        "    Args:\n",
        "        model: The model to evaluate.\n",
        "        test_loader: The data loader for the test set.\n",
        "        device: The device to use for computation.\n",
        "        graph_data: The graph data for GNN models.\n",
        "\n",
        "    Returns:\n",
        "        A tuple containing the MSE and MAE.\n",
        "    \"\"\"\n",
        "    model.eval()\n",
        "    predictions = []\n",
        "    actuals = []\n",
        "    with torch.no_grad():\n",
        "        for users, items, ratings in test_loader:\n",
        "            users, items, ratings = users.to(device), items.to(device), ratings.to(device)\n",
        "\n",
        "            # Check if the model is a GNN model and pass graph data if necessary\n",
        "            if isinstance(model, GNNCF):\n",
        "                preds = model(users, items, graph_data.edge_index, graph_data.edge_attr)  # Pass graph_data here\n",
        "            else:\n",
        "                preds = model(users, items)\n",
        "\n",
        "            predictions.extend(preds.cpu().numpy())\n",
        "            actuals.extend(ratings.cpu().numpy())\n",
        "\n",
        "    mse = mean_squared_error(actuals, predictions)\n",
        "    mae = mean_absolute_error(actuals, predictions)\n",
        "\n",
        "    print(f'MSE: {mse:.4f}, MAE: {mae:.4f}')\n",
        "    return mse, mae\n",
        "\n",
        "print(\"Evaluating GNN model...\")\n",
        "gnn_mse, gnn_mae = evaluate(gnn_model, test_loader, device, graph_data=graph_data) # Pass graph_data to evaluate function"
      ],
      "metadata": {
        "colab": {
          "base_uri": "https://localhost:8080/"
        },
        "id": "Zc_M0R9ke3X1",
        "outputId": "632aae51-21d7-409f-865c-e5b9c4bdd48e"
      },
      "execution_count": 28,
      "outputs": [
        {
          "output_type": "stream",
          "name": "stdout",
          "text": [
            "Evaluating GNN model...\n",
            "MSE: 0.7526, MAE: 0.6845\n"
          ]
        }
      ]
    },
    {
      "cell_type": "markdown",
      "source": [
        "#Results"
      ],
      "metadata": {
        "id": "f6pv0KDdcF9o"
      }
    },
    {
      "cell_type": "code",
      "source": [
        "# Compare results\n",
        "results = {\n",
        "    'Model': ['Neural Collaborative Filtering', 'Graph Neural Network'],\n",
        "    'MSE': [ncf_mse, gnn_mse],\n",
        "    'MAE': [ncf_mae, gnn_mae]\n",
        "}\n",
        "\n",
        "results_df = pd.DataFrame(results)\n",
        "print(\"\\nModel Comparison:\")\n",
        "print(results_df)\n",
        "\n",
        "# Plot results\n",
        "plt.figure(figsize=(10, 5))\n",
        "plt.subplot(1, 2, 1)\n",
        "plt.bar(results_df['Model'], results_df['MSE'])\n",
        "plt.title('Mean Squared Error (Lower is better)')\n",
        "plt.xticks(rotation=15)\n",
        "\n",
        "plt.subplot(1, 2, 2)\n",
        "plt.bar(results_df['Model'], results_df['MAE'])\n",
        "plt.title('Mean Absolute Error (Lower is better)')\n",
        "plt.xticks(rotation=15)\n",
        "\n",
        "plt.tight_layout()\n",
        "plt.show()"
      ],
      "metadata": {
        "id": "-PcCY06ADIfu",
        "colab": {
          "base_uri": "https://localhost:8080/",
          "height": 570
        },
        "outputId": "8e0236db-bcc0-4a3e-da78-c1f453c04ce4"
      },
      "execution_count": 29,
      "outputs": [
        {
          "output_type": "stream",
          "name": "stdout",
          "text": [
            "\n",
            "Model Comparison:\n",
            "                            Model       MSE       MAE\n",
            "0  Neural Collaborative Filtering  0.832628  0.721678\n",
            "1            Graph Neural Network  0.752649  0.684515\n"
          ]
        },
        {
          "output_type": "display_data",
          "data": {
            "text/plain": [
              "<Figure size 1000x500 with 2 Axes>"
            ],
            "image/png": "[encoded data removed]"
          },
          "metadata": {}
        }
      ]
    },
    {
      "cell_type": "code",
      "source": [],
      "metadata": {
        "id": "kyegk8CjiM_W"
      },
      "execution_count": null,
      "outputs": []
    }
  ],
  "metadata": {
    "colab": {
      "provenance": [],
      "gpuType": "T4",
      "authorship_tag": "ABX9TyOeEaGC7pkVuIGJt+XRLVBj",
      "include_colab_link": true
    },
    "kernelspec": {
      "display_name": "Python 3",
      "name": "python3"
    },
    "language_info": {
      "name": "python"
    },
    "accelerator": "GPU"
  },
  "nbformat": 4,
  "nbformat_minor": 0
}